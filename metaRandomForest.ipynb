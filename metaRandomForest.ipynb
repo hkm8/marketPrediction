{
 "cells": [
  {
   "cell_type": "code",
   "execution_count": 99,
   "metadata": {},
   "outputs": [],
   "source": [
    "def cleaning_tweets(text):\n",
    "    ''' Clean tweets with regex patterns\n",
    "    \n",
    "    Args : \n",
    "        - text : string\n",
    "    \n",
    "    Returns : \n",
    "        A transformed text\n",
    "    '''\n",
    "\n",
    "    text = str(text)\n",
    "    text = text.lower()\n",
    "\n",
    "    text = re.sub(r\"http\\S+\", \" \", text)\n",
    "    text = re.sub(r\"\\b[a-zA-Z]\\b\", \" \", text)\n",
    "    text = re.sub(r\"\\d+\", \" \", text)\n",
    "    text = re.sub(r\"[^a-zA-Z0-9]+\", \" \", text)\n",
    "    text = re.sub(r\"\\s+\", \" \", text)\n",
    "\n",
    "    text = text.split()\n",
    "\n",
    "    return text"
   ]
  },
  {
   "cell_type": "code",
   "execution_count": 100,
   "metadata": {},
   "outputs": [
    {
     "name": "stdout",
     "output_type": "stream",
     "text": [
      "          Date  Sentiment\n",
      "0   2020-04-09   0.103475\n",
      "1   2020-04-10   0.091038\n",
      "2   2020-04-11   0.207946\n",
      "3   2020-04-12   0.145742\n",
      "4   2020-04-13   0.033800\n",
      "..         ...        ...\n",
      "72  2020-07-12   0.338092\n",
      "73  2020-07-13   0.087425\n",
      "74  2020-07-14  -0.032058\n",
      "75  2020-07-15   0.030073\n",
      "76  2020-07-16  -0.077120\n",
      "\n",
      "[77 rows x 2 columns]\n"
     ]
    }
   ],
   "source": [
    "import pandas as pd\n",
    "from nltk.sentiment.vader import SentimentIntensityAnalyzer\n",
    "\n",
    "df = pd.read_csv('../tweets/tweets_remaining_09042020_16072020.csv', delimiter=';')\n",
    "\n",
    "df['Date'] = df['created_at'].str.split().str[0]\n",
    "\n",
    "df = df[df['text'].str.contains(\"meta\")]\n",
    "\n",
    "sia = SentimentIntensityAnalyzer()\n",
    "\n",
    "df['Sentiment'] = df['text'].apply(lambda x: sia.polarity_scores(x)['compound'])\n",
    "\n",
    "sentiment_df = df[['Date', 'Sentiment']]\n",
    "\n",
    "average_sentiment_df = sentiment_df.groupby('Date').mean().reset_index()\n",
    "\n",
    "print(average_sentiment_df)\n"
   ]
  },
  {
   "cell_type": "code",
   "execution_count": 101,
   "metadata": {},
   "outputs": [],
   "source": [
    "import yfinance as yf\n",
    "meta_df = yf.download(\"meta\", start=\"2020-04-09\", end=\"2020-07-16\", progress=False)"
   ]
  },
  {
   "cell_type": "code",
   "execution_count": 102,
   "metadata": {},
   "outputs": [],
   "source": [
    "average_sentiment_df['Date'] = pd.to_datetime(average_sentiment_df['Date'])\n",
    "\n",
    "\n",
    "average_sentiment_df = average_sentiment_df[average_sentiment_df['Date'].isin(meta_df.index)]\n",
    "meta_df = meta_df[meta_df.index.isin(average_sentiment_df['Date'])]\n",
    "average_sentiment_df = average_sentiment_df.reset_index(drop=True)\n",
    "meta_df = meta_df.reset_index(drop=True)"
   ]
  },
  {
   "cell_type": "code",
   "execution_count": 103,
   "metadata": {},
   "outputs": [],
   "source": [
    "meta_df['Sentiment'] = average_sentiment_df['Sentiment'].to_numpy()"
   ]
  },
  {
   "cell_type": "code",
   "execution_count": 104,
   "metadata": {},
   "outputs": [],
   "source": [
    "meta_df[\"Tomorrow\"] = meta_df[\"Close\"].shift(-1)"
   ]
  },
  {
   "cell_type": "code",
   "execution_count": 105,
   "metadata": {},
   "outputs": [],
   "source": [
    "meta_df[\"Target\"] = (meta_df[\"Tomorrow\"] > meta_df[\"Close\"]).astype(int)\n"
   ]
  },
  {
   "attachments": {},
   "cell_type": "markdown",
   "metadata": {},
   "source": [
    "## Random Forest"
   ]
  },
  {
   "cell_type": "code",
   "execution_count": 106,
   "metadata": {},
   "outputs": [
    {
     "name": "stderr",
     "output_type": "stream",
     "text": [
      "/var/folders/9f/tqhf2_lj7x9g9w7kvpf8_91r0000gn/T/ipykernel_78362/3245676496.py:15: SettingWithCopyWarning: \n",
      "A value is trying to be set on a copy of a slice from a DataFrame.\n",
      "Try using .loc[row_indexer,col_indexer] = value instead\n",
      "\n",
      "See the caveats in the documentation: https://pandas.pydata.org/pandas-docs/stable/user_guide/indexing.html#returning-a-view-versus-a-copy\n",
      "  test_df['Predictions'] = y_pred\n"
     ]
    }
   ],
   "source": [
    "from sklearn.ensemble import RandomForestClassifier\n",
    "from sklearn.model_selection import train_test_split\n",
    "\n",
    "X_train, X_test, y_train, y_test = train_test_split(meta_df[['Open', 'High', 'Low', 'Close',\n",
    "'Adj Close', 'Volume', 'Sentiment']], meta_df['Target'], test_size=0.2, random_state=42, shuffle=False)\n",
    "\n",
    "\n",
    "model = RandomForestClassifier(n_estimators=100, max_depth=5, random_state=1)\n",
    "model.fit(X_train, y_train)\n",
    "\n",
    "y_pred = model.predict(X_test)\n",
    "\n",
    "test_df = meta_df[meta_df.index.isin(X_test.index)]\n",
    "\n",
    "test_df['Predictions'] = y_pred\n"
   ]
  },
  {
   "cell_type": "code",
   "execution_count": 107,
   "metadata": {},
   "outputs": [],
   "source": [
    "test_df = test_df.reset_index(drop=True)\n"
   ]
  },
  {
   "cell_type": "code",
   "execution_count": 108,
   "metadata": {},
   "outputs": [],
   "source": [
    "wallet = 10000\n",
    "wallet_value = []  \n",
    "for i in range(len(test_df)):\n",
    "    if (test_df['Predictions'][i] == 1) and (test_df['Target'][i] == 1):\n",
    "        wallet += (test_df['Tomorrow'][i] - test_df['Adj Close'][i])\n",
    "    elif (test_df['Predictions'][i] == 0) and (test_df['Target'][i] == 0):\n",
    "        wallet += (test_df['Adj Close'][i] - test_df['Tomorrow'][i])\n",
    "    else:\n",
    "        wallet -= abs((test_df['Tomorrow'][i] - test_df['Adj Close'][i]))\n",
    "    wallet_value.append(wallet)\n",
    "\n",
    "test_df['Wallet'] = wallet_value"
   ]
  },
  {
   "cell_type": "code",
   "execution_count": 109,
   "metadata": {},
   "outputs": [
    {
     "name": "stdout",
     "output_type": "stream",
     "text": [
      "          Open        High         Low       Close   Adj Close    Volume   \n",
      "0     0.000000    0.000000    0.000000    0.000000    0.000000         0  \\\n",
      "1   220.589996  227.500000  218.470001  227.070007  226.829346  33927100   \n",
      "2   228.500000  239.000000  227.559998  237.550003  237.298233  43399700   \n",
      "3   239.000000  240.000000  232.610001  233.419998  233.172592  30633600   \n",
      "4   233.759995  240.399994  232.270004  240.279999  240.025330  26206200   \n",
      "5   239.410004  247.649994  238.820007  240.860001  240.604721  27887800   \n",
      "6   238.110001  246.990005  236.589996  243.580002  243.321838  29791300   \n",
      "7   245.000000  246.529999  239.240005  244.500000  244.240860  22174900   \n",
      "8   243.690002  245.490005  239.320007  245.070007  244.810257  22982700   \n",
      "9   247.009995  250.149994  238.419998  239.000000  238.746689  24674900   \n",
      "10  236.759995  240.330002  232.029999  239.729996  239.475906  23378100   \n",
      "11  241.550003  244.820007  238.050003  240.279999  240.025330  19133600   \n",
      "\n",
      "    Sentiment    Tomorrow  Target  Predictions        Wallet  \n",
      "0    0.000000    0.000000       0            0  10000.000000  \n",
      "1    0.154609  237.550003       1            1  10010.720657  \n",
      "2    0.107811  233.419998       0            0  10014.598892  \n",
      "3    0.202370  240.279999       1            1  10021.706299  \n",
      "4    0.178446  240.860001       1            0  10020.871628  \n",
      "5    0.064865  243.580002       1            1  10023.846909  \n",
      "6    0.052500  244.500000       1            1  10025.025070  \n",
      "7    0.163050  245.070007       1            0  10024.195923  \n",
      "8    0.163567  239.000000       0            0  10030.006180  \n",
      "9    0.087425  239.729996       1            1  10030.989487  \n",
      "10  -0.032058  240.279999       1            0  10030.185394  \n",
      "11   0.030073         NaN       0            0           NaN  \n"
     ]
    },
    {
     "data": {
      "image/png": "[encoded data removed]",
      "text/plain": [
       "<Figure size 640x480 with 1 Axes>"
      ]
     },
     "metadata": {},
     "output_type": "display_data"
    }
   ],
   "source": [
    "wallet_df = test_df.copy()\n",
    "wallet_df = wallet_df.drop(wallet_df.index[0:60])\n",
    "\n",
    "wallet_df.loc[-1] = [0] * len(wallet_df.columns)\n",
    "wallet_df.index = wallet_df.index + 1\n",
    "wallet_df = wallet_df.sort_index()\n",
    "wallet_df.loc[0, 'Wallet'] = 10000\n",
    "\n",
    "\n",
    "wallet_df = wallet_df.reset_index(drop=True)\n",
    "wallet_df = pd.concat([wallet_df, test_df], ignore_index=True)\n",
    "\n",
    "\n",
    "print(wallet_df)\n",
    "\n",
    "plt.plot(wallet_df['Wallet'], label='Value of Meta based portfolio')\n",
    "plt.ylabel('Value in dollars')\n",
    "plt.legend()\n",
    "plt.show()\n",
    "\n"
   ]
  },
  {
   "cell_type": "code",
   "execution_count": 110,
   "metadata": {},
   "outputs": [
    {
     "name": "stdout",
     "output_type": "stream",
     "text": [
      "0.30185394287109374\n"
     ]
    }
   ],
   "source": [
    "# Printing the return\n",
    "print((wallet_df['Wallet'][len(wallet_df)-2] - wallet_df['Wallet'][0])/wallet_df['Wallet'][0]*100)\n"
   ]
  }
 ],
 "metadata": {
  "kernelspec": {
   "display_name": "Python 3",
   "language": "python",
   "name": "python3"
  },
  "language_info": {
   "codemirror_mode": {
    "name": "ipython",
    "version": 3
   },
   "file_extension": ".py",
   "mimetype": "text/x-python",
   "name": "python",
   "nbconvert_exporter": "python",
   "pygments_lexer": "ipython3",
   "version": "3.11.8"
  },
  "orig_nbformat": 4
 },
 "nbformat": 4,
 "nbformat_minor": 2
}
