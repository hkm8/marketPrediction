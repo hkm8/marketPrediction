{
 "cells": [
  {
   "cell_type": "code",
   "execution_count": 31,
   "metadata": {},
   "outputs": [],
   "source": [
    "def cleaning_tweets(text):\n",
    "    ''' Clean tweets with regex patterns\n",
    "    \n",
    "    Args : \n",
    "        - text : string\n",
    "    \n",
    "    Returns : \n",
    "        A transformed text\n",
    "    '''\n",
    "\n",
    "    text = str(text)\n",
    "    text = text.lower()\n",
    "\n",
    "    text = re.sub(r\"http\\S+\", \" \", text)\n",
    "    text = re.sub(r\"\\b[a-zA-Z]\\b\", \" \", text)\n",
    "    text = re.sub(r\"\\d+\", \" \", text)\n",
    "    text = re.sub(r\"[^a-zA-Z0-9]+\", \" \", text)\n",
    "    text = re.sub(r\"\\s+\", \" \", text)\n",
    "\n",
    "    text = text.split()\n",
    "\n",
    "    return text"
   ]
  },
  {
   "cell_type": "code",
   "execution_count": 32,
   "metadata": {},
   "outputs": [
    {
     "name": "stdout",
     "output_type": "stream",
     "text": [
      "          Date  Sentiment\n",
      "0   2020-04-09   0.105871\n",
      "1   2020-04-10   0.083606\n",
      "2   2020-04-11   0.163910\n",
      "3   2020-04-12   0.125330\n",
      "4   2020-04-13   0.127856\n",
      "..         ...        ...\n",
      "72  2020-07-12   0.203441\n",
      "73  2020-07-13   0.144191\n",
      "74  2020-07-14   0.112571\n",
      "75  2020-07-15   0.127234\n",
      "76  2020-07-16   0.132796\n",
      "\n",
      "[77 rows x 2 columns]\n"
     ]
    }
   ],
   "source": [
    "import pandas as pd\n",
    "from nltk.sentiment.vader import SentimentIntensityAnalyzer\n",
    "\n",
    "df = pd.read_csv('../tweets/tweets_remaining_09042020_16072020.csv', delimiter=';')\n",
    "\n",
    "df['Date'] = df['created_at'].str.split().str[0]\n",
    "\n",
    "df = df[df['text'].str.contains(\"aapl\")]\n",
    "\n",
    "sia = SentimentIntensityAnalyzer()\n",
    "\n",
    "df['Sentiment'] = df['text'].apply(lambda x: sia.polarity_scores(x)['compound'])\n",
    "\n",
    "sentiment_df = df[['Date', 'Sentiment']]\n",
    "\n",
    "average_sentiment_df = sentiment_df.groupby('Date').mean().reset_index()\n",
    "\n",
    "print(average_sentiment_df)\n"
   ]
  },
  {
   "cell_type": "code",
   "execution_count": 33,
   "metadata": {},
   "outputs": [],
   "source": [
    "import yfinance as yf\n",
    "aapl_df = yf.download(\"aapl\", start=\"2020-04-09\", end=\"2020-07-16\", progress=False)"
   ]
  },
  {
   "cell_type": "code",
   "execution_count": 34,
   "metadata": {},
   "outputs": [],
   "source": [
    "average_sentiment_df['Date'] = pd.to_datetime(average_sentiment_df['Date'])\n",
    "\n",
    "\n",
    "average_sentiment_df = average_sentiment_df[average_sentiment_df['Date'].isin(aapl_df.index)]\n",
    "aapl_df = aapl_df[aapl_df.index.isin(average_sentiment_df['Date'])]\n",
    "average_sentiment_df = average_sentiment_df.reset_index(drop=True)\n",
    "aapl_df = aapl_df.reset_index(drop=True)"
   ]
  },
  {
   "cell_type": "code",
   "execution_count": 35,
   "metadata": {},
   "outputs": [],
   "source": [
    "aapl_df['Sentiment'] = average_sentiment_df['Sentiment'].to_numpy()"
   ]
  },
  {
   "cell_type": "code",
   "execution_count": 36,
   "metadata": {},
   "outputs": [
    {
     "data": {
      "text/html": [
       "<div>\n",
       "<style scoped>\n",
       "    .dataframe tbody tr th:only-of-type {\n",
       "        vertical-align: middle;\n",
       "    }\n",
       "\n",
       "    .dataframe tbody tr th {\n",
       "        vertical-align: top;\n",
       "    }\n",
       "\n",
       "    .dataframe thead th {\n",
       "        text-align: right;\n",
       "    }\n",
       "</style>\n",
       "<table border=\"1\" class=\"dataframe\">\n",
       "  <thead>\n",
       "    <tr style=\"text-align: right;\">\n",
       "      <th></th>\n",
       "      <th>Open</th>\n",
       "      <th>High</th>\n",
       "      <th>Low</th>\n",
       "      <th>Close</th>\n",
       "      <th>Adj Close</th>\n",
       "      <th>Volume</th>\n",
       "      <th>Sentiment</th>\n",
       "    </tr>\n",
       "  </thead>\n",
       "  <tbody>\n",
       "    <tr>\n",
       "      <th>0</th>\n",
       "      <td>67.175003</td>\n",
       "      <td>67.517502</td>\n",
       "      <td>66.175003</td>\n",
       "      <td>66.997498</td>\n",
       "      <td>65.342621</td>\n",
       "      <td>161834800</td>\n",
       "      <td>0.105871</td>\n",
       "    </tr>\n",
       "    <tr>\n",
       "      <th>1</th>\n",
       "      <td>67.077499</td>\n",
       "      <td>68.425003</td>\n",
       "      <td>66.457497</td>\n",
       "      <td>68.312500</td>\n",
       "      <td>66.625153</td>\n",
       "      <td>131022800</td>\n",
       "      <td>0.127856</td>\n",
       "    </tr>\n",
       "    <tr>\n",
       "      <th>2</th>\n",
       "      <td>70.000000</td>\n",
       "      <td>72.062500</td>\n",
       "      <td>69.512497</td>\n",
       "      <td>71.762497</td>\n",
       "      <td>69.989944</td>\n",
       "      <td>194994800</td>\n",
       "      <td>0.072567</td>\n",
       "    </tr>\n",
       "    <tr>\n",
       "      <th>3</th>\n",
       "      <td>70.599998</td>\n",
       "      <td>71.582497</td>\n",
       "      <td>70.157501</td>\n",
       "      <td>71.107498</td>\n",
       "      <td>69.351120</td>\n",
       "      <td>131154400</td>\n",
       "      <td>0.134156</td>\n",
       "    </tr>\n",
       "    <tr>\n",
       "      <th>4</th>\n",
       "      <td>71.845001</td>\n",
       "      <td>72.050003</td>\n",
       "      <td>70.587502</td>\n",
       "      <td>71.672501</td>\n",
       "      <td>69.902176</td>\n",
       "      <td>157125200</td>\n",
       "      <td>0.131556</td>\n",
       "    </tr>\n",
       "  </tbody>\n",
       "</table>\n",
       "</div>"
      ],
      "text/plain": [
       "        Open       High        Low      Close  Adj Close     Volume  Sentiment\n",
       "0  67.175003  67.517502  66.175003  66.997498  65.342621  161834800   0.105871\n",
       "1  67.077499  68.425003  66.457497  68.312500  66.625153  131022800   0.127856\n",
       "2  70.000000  72.062500  69.512497  71.762497  69.989944  194994800   0.072567\n",
       "3  70.599998  71.582497  70.157501  71.107498  69.351120  131154400   0.134156\n",
       "4  71.845001  72.050003  70.587502  71.672501  69.902176  157125200   0.131556"
      ]
     },
     "execution_count": 36,
     "metadata": {},
     "output_type": "execute_result"
    }
   ],
   "source": [
    "aapl_df.head()"
   ]
  },
  {
   "cell_type": "code",
   "execution_count": 37,
   "metadata": {},
   "outputs": [],
   "source": [
    "aapl_df[\"Tomorrow\"] = aapl_df[\"Close\"].shift(-1)"
   ]
  },
  {
   "cell_type": "code",
   "execution_count": 38,
   "metadata": {},
   "outputs": [],
   "source": [
    "aapl_df[\"Target\"] = (aapl_df[\"Tomorrow\"] > aapl_df[\"Close\"]).astype(int)\n"
   ]
  },
  {
   "cell_type": "code",
   "execution_count": 39,
   "metadata": {},
   "outputs": [
    {
     "name": "stderr",
     "output_type": "stream",
     "text": [
      "/var/folders/9f/tqhf2_lj7x9g9w7kvpf8_91r0000gn/T/ipykernel_80984/2058683553.py:14: SettingWithCopyWarning: \n",
      "A value is trying to be set on a copy of a slice from a DataFrame.\n",
      "Try using .loc[row_indexer,col_indexer] = value instead\n",
      "\n",
      "See the caveats in the documentation: https://pandas.pydata.org/pandas-docs/stable/user_guide/indexing.html#returning-a-view-versus-a-copy\n",
      "  test_df['Predictions'] = y_pred\n"
     ]
    }
   ],
   "source": [
    "from sklearn.naive_bayes import GaussianNB\n",
    "from sklearn.model_selection import train_test_split\n",
    "\n",
    "X_train, X_test, y_train, y_test = train_test_split(aapl_df[['Open', 'High', 'Low', 'Close',\n",
    "'Adj Close', 'Volume', 'Sentiment']], aapl_df['Target'], test_size=0.2, random_state=42, shuffle=False)\n",
    "\n",
    "model = GaussianNB()\n",
    "model.fit(X_train, y_train)\n",
    "\n",
    "y_pred = model.predict(X_test)\n",
    "\n",
    "test_df = aapl_df[aapl_df.index.isin(X_test.index)]\n",
    "\n",
    "test_df['Predictions'] = y_pred\n"
   ]
  },
  {
   "cell_type": "code",
   "execution_count": 40,
   "metadata": {},
   "outputs": [
    {
     "name": "stdout",
     "output_type": "stream",
     "text": [
      "         Open       High        Low      Close  Adj Close     Volume   \n",
      "41  90.019997  91.495003  90.000000  91.199997  89.188103  140223200  \\\n",
      "42  91.279999  91.839996  90.977501  91.027496  89.019417  110737200   \n",
      "43  91.962502  92.617500  90.910004  91.027496  89.019417  114041600   \n",
      "44  92.500000  93.945000  92.467499  93.462502  91.400703  118655600   \n",
      "45  93.852501  94.654999  93.057503  93.172501  91.117081  112424400   \n",
      "46  94.180000  95.375000  94.089996  95.342499  93.239227  117092000   \n",
      "47  96.262497  96.317497  94.672501  95.752502  93.640175  125642800   \n",
      "48  95.334999  95.980003  94.705002  95.919998  93.803986   90257200   \n",
      "49  97.264999  99.955002  95.257500  95.477501  93.371231  191649200   \n",
      "50  94.839996  97.254997  93.877502  97.057503  94.916382  170989200   \n",
      "51  98.989998  99.247498  96.489998  97.724998  95.569168  153198000   \n",
      "\n",
      "    Sentiment   Tomorrow  Target  Predictions  \n",
      "41   0.037224  91.027496       0            1  \n",
      "42   0.162296  91.027496       0            1  \n",
      "43   0.179623  93.462502       1            1  \n",
      "44   0.167523  93.172501       0            1  \n",
      "45   0.095442  95.342499       1            1  \n",
      "46   0.133210  95.752502       1            1  \n",
      "47   0.124558  95.919998       1            1  \n",
      "48   0.081070  95.477501       0            1  \n",
      "49   0.144191  97.057503       1            1  \n",
      "50   0.112571  97.724998       1            1  \n",
      "51   0.127234        NaN       0            1  \n"
     ]
    }
   ],
   "source": [
    "print(test_df)\n",
    "test_df = test_df.reset_index(drop=True)\n"
   ]
  },
  {
   "cell_type": "code",
   "execution_count": 41,
   "metadata": {},
   "outputs": [],
   "source": [
    "wallet = 10000\n",
    "wallet_value = []  \n",
    "for i in range(len(test_df)):\n",
    "    if (test_df['Predictions'][i] == 1) and (test_df['Target'][i] == 1):\n",
    "        wallet += (test_df['Tomorrow'][i] - test_df['Adj Close'][i])\n",
    "    elif (test_df['Predictions'][i] == 0) and (test_df['Target'][i] == 0):\n",
    "        wallet += (test_df['Adj Close'][i] - test_df['Tomorrow'][i])\n",
    "    else:\n",
    "        wallet -= abs((test_df['Tomorrow'][i] - test_df['Adj Close'][i]))\n",
    "    wallet_value.append(wallet)\n",
    "\n",
    "test_df['Wallet'] = wallet_value\n",
    "\n"
   ]
  },
  {
   "cell_type": "code",
   "execution_count": 42,
   "metadata": {},
   "outputs": [
    {
     "name": "stdout",
     "output_type": "stream",
     "text": [
      "         Open       High        Low      Close  Adj Close     Volume   \n",
      "0    0.000000   0.000000   0.000000   0.000000   0.000000          0  \\\n",
      "1   90.019997  91.495003  90.000000  91.199997  89.188103  140223200   \n",
      "2   91.279999  91.839996  90.977501  91.027496  89.019417  110737200   \n",
      "3   91.962502  92.617500  90.910004  91.027496  89.019417  114041600   \n",
      "4   92.500000  93.945000  92.467499  93.462502  91.400703  118655600   \n",
      "5   93.852501  94.654999  93.057503  93.172501  91.117081  112424400   \n",
      "6   94.180000  95.375000  94.089996  95.342499  93.239227  117092000   \n",
      "7   96.262497  96.317497  94.672501  95.752502  93.640175  125642800   \n",
      "8   95.334999  95.980003  94.705002  95.919998  93.803986   90257200   \n",
      "9   97.264999  99.955002  95.257500  95.477501  93.371231  191649200   \n",
      "10  94.839996  97.254997  93.877502  97.057503  94.916382  170989200   \n",
      "11  98.989998  99.247498  96.489998  97.724998  95.569168  153198000   \n",
      "\n",
      "    Sentiment   Tomorrow  Target  Predictions        Wallet  \n",
      "0    0.000000   0.000000       0            0  10000.000000  \n",
      "1    0.037224  91.027496       0            1   9998.160606  \n",
      "2    0.162296  91.027496       0            1   9996.152527  \n",
      "3    0.179623  93.462502       1            1  10000.595612  \n",
      "4    0.167523  93.172501       0            1   9998.823814  \n",
      "5    0.095442  95.342499       1            1  10003.049232  \n",
      "6    0.133210  95.752502       1            1  10005.562508  \n",
      "7    0.124558  95.919998       1            1  10007.842331  \n",
      "8    0.081070  95.477501       0            1  10006.168816  \n",
      "9    0.144191  97.057503       1            1  10009.855087  \n",
      "10   0.112571  97.724998       1            1  10012.663704  \n",
      "11   0.127234        NaN       0            1           NaN  \n"
     ]
    },
    {
     "data": {
      "image/png": "[encoded data removed]",
      "text/plain": [
       "<Figure size 640x480 with 1 Axes>"
      ]
     },
     "metadata": {},
     "output_type": "display_data"
    }
   ],
   "source": [
    "wallet_df = test_df.copy()\n",
    "wallet_df = wallet_df.drop(wallet_df.index[0:60])\n",
    "\n",
    "wallet_df.loc[-1] = [0] * len(wallet_df.columns)\n",
    "wallet_df.index = wallet_df.index + 1\n",
    "wallet_df = wallet_df.sort_index()\n",
    "wallet_df.loc[0, 'Wallet'] = 10000\n",
    "\n",
    "\n",
    "wallet_df = wallet_df.reset_index(drop=True)\n",
    "wallet_df = pd.concat([wallet_df, test_df], ignore_index=True)\n",
    "\n",
    "\n",
    "print(wallet_df)\n",
    "\n",
    "plt.plot(wallet_df['Wallet'], label='Value of Apple based portfolio')\n",
    "plt.ylabel('Value in dollars')\n",
    "plt.legend()\n",
    "plt.show()\n",
    "\n"
   ]
  },
  {
   "cell_type": "code",
   "execution_count": 43,
   "metadata": {},
   "outputs": [
    {
     "name": "stdout",
     "output_type": "stream",
     "text": [
      "0.1266370391845703\n"
     ]
    }
   ],
   "source": [
    "print((wallet_df['Wallet'][len(wallet_df)-2] - wallet_df['Wallet'][0])/wallet_df['Wallet'][0]*100)\n"
   ]
  }
 ],
 "metadata": {
  "kernelspec": {
   "display_name": "Python 3",
   "language": "python",
   "name": "python3"
  },
  "language_info": {
   "codemirror_mode": {
    "name": "ipython",
    "version": 3
   },
   "file_extension": ".py",
   "mimetype": "text/x-python",
   "name": "python",
   "nbconvert_exporter": "python",
   "pygments_lexer": "ipython3",
   "version": "3.11.8"
  },
  "orig_nbformat": 4
 },
 "nbformat": 4,
 "nbformat_minor": 2
}
