{
 "cells": [
  {
   "cell_type": "code",
   "execution_count": 73,
   "metadata": {},
   "outputs": [],
   "source": [
    "# A regex function that will remove links, special characters, digits, emojis, spaces, single letters\n",
    "def cleaning_tweets(text):\n",
    "    ''' Clean tweets with regex patterns\n",
    "    \n",
    "    Args : \n",
    "        - text : string\n",
    "    \n",
    "    Returns : \n",
    "        A transformed text\n",
    "    '''\n",
    "\n",
    "    text = str(text)\n",
    "    text = text.lower()\n",
    "\n",
    "    text = re.sub(r\"http\\S+\", \" \", text)\n",
    "    text = re.sub(r\"\\b[a-zA-Z]\\b\", \" \", text)\n",
    "    text = re.sub(r\"\\d+\", \" \", text)\n",
    "    text = re.sub(r\"[^a-zA-Z0-9]+\", \" \", text)\n",
    "    text = re.sub(r\"\\s+\", \" \", text)\n",
    "\n",
    "    text = text.split()\n",
    "\n",
    "    return text"
   ]
  },
  {
   "cell_type": "code",
   "execution_count": 74,
   "metadata": {},
   "outputs": [
    {
     "name": "stdout",
     "output_type": "stream",
     "text": [
      "          Date  Sentiment\n",
      "0   2020-04-09   0.169795\n",
      "1   2020-04-10   0.162967\n",
      "2   2020-04-11   0.103247\n",
      "3   2020-04-12   0.174763\n",
      "4   2020-04-13   0.178214\n",
      "..         ...        ...\n",
      "72  2020-07-12   0.136095\n",
      "73  2020-07-13   0.167609\n",
      "74  2020-07-14   0.114810\n",
      "75  2020-07-15   0.126125\n",
      "76  2020-07-16   0.120703\n",
      "\n",
      "[77 rows x 2 columns]\n"
     ]
    }
   ],
   "source": [
    "import pandas as pd\n",
    "from nltk.sentiment.vader import SentimentIntensityAnalyzer\n",
    "\n",
    "# Loading the data into a DataFrame\n",
    "df = pd.read_csv('../tweets/tweets_remaining_09042020_16072020.csv', delimiter=';')\n",
    "\n",
    "# Creating new column with just the date\n",
    "df['Date'] = df['created_at'].str.split().str[0]\n",
    "\n",
    "# Deleting rows not containing amzn word in text\n",
    "df = df[df['text'].str.contains(\"amzn\")]\n",
    "\n",
    "# VADER sentiment analyzer\n",
    "sia = SentimentIntensityAnalyzer()\n",
    "\n",
    "# Applying VADER to each tweet and storing the results in a new column\n",
    "df['Sentiment'] = df['text'].apply(lambda x: sia.polarity_scores(x)['compound'])\n",
    "\n",
    "# Creating new DataFrame with only the date and sentiment columns\n",
    "sentiment_df = df[['Date', 'Sentiment']]\n",
    "\n",
    "# Creating new DataFrame with only the date and average sentiment columns\n",
    "average_sentiment_df = sentiment_df.groupby('Date').mean().reset_index()\n",
    "\n",
    "print(average_sentiment_df)\n"
   ]
  },
  {
   "cell_type": "code",
   "execution_count": 75,
   "metadata": {},
   "outputs": [],
   "source": [
    "import yfinance as yf\n",
    "\n",
    "amzn_df = yf.download(\"amzn\", start=\"2020-04-09\", end=\"2020-07-16\", progress=False)"
   ]
  },
  {
   "cell_type": "code",
   "execution_count": 76,
   "metadata": {},
   "outputs": [],
   "source": [
    "average_sentiment_df['Date'] = pd.to_datetime(average_sentiment_df['Date'])\n",
    "\n",
    "\n",
    "# deleting rows from average_sentiment_df that are not in amzn_df\n",
    "average_sentiment_df = average_sentiment_df[average_sentiment_df['Date'].isin(amzn_df.index)]\n",
    "# deleting rows from amzn_df that are not in average_sentiment_df\n",
    "amzn_df = amzn_df[amzn_df.index.isin(average_sentiment_df['Date'])]\n",
    "# reseting index in average_sentiment_df\n",
    "average_sentiment_df = average_sentiment_df.reset_index(drop=True)\n",
    "# reseting index in amzn_df\n",
    "amzn_df = amzn_df.reset_index(drop=True)"
   ]
  },
  {
   "cell_type": "code",
   "execution_count": 77,
   "metadata": {},
   "outputs": [],
   "source": [
    "# adding Sentiment from average_sentiment_df to amzn_df\n",
    "amzn_df['Sentiment'] = average_sentiment_df['Sentiment'].to_numpy()"
   ]
  },
  {
   "cell_type": "code",
   "execution_count": 78,
   "metadata": {},
   "outputs": [],
   "source": [
    "amzn_df[\"Tomorrow\"] = amzn_df[\"Close\"].shift(-1)"
   ]
  },
  {
   "cell_type": "code",
   "execution_count": 79,
   "metadata": {},
   "outputs": [],
   "source": [
    "amzn_df[\"Target\"] = (amzn_df[\"Tomorrow\"] > amzn_df[\"Close\"]).astype(int)\n"
   ]
  },
  {
   "attachments": {},
   "cell_type": "markdown",
   "metadata": {},
   "source": [
    "## SVM"
   ]
  },
  {
   "cell_type": "code",
   "execution_count": 80,
   "metadata": {},
   "outputs": [
    {
     "name": "stderr",
     "output_type": "stream",
     "text": [
      "/var/folders/9f/tqhf2_lj7x9g9w7kvpf8_91r0000gn/T/ipykernel_67910/3120402156.py:18: SettingWithCopyWarning: \n",
      "A value is trying to be set on a copy of a slice from a DataFrame.\n",
      "Try using .loc[row_indexer,col_indexer] = value instead\n",
      "\n",
      "See the caveats in the documentation: https://pandas.pydata.org/pandas-docs/stable/user_guide/indexing.html#returning-a-view-versus-a-copy\n",
      "  test_df['Predictions'] = y_pred\n"
     ]
    }
   ],
   "source": [
    "from sklearn.svm import SVC\n",
    "from sklearn.model_selection import train_test_split\n",
    "\n",
    "# spliting data into train and test\n",
    "X_train, X_test, y_train, y_test = train_test_split(amzn_df[['Sentiment']], amzn_df['Target'], \n",
    "test_size=0.2, random_state=42, shuffle=False)\n",
    "\n",
    "# training the model\n",
    "model = SVC(kernel='linear')\n",
    "model.fit(X_train, y_train)\n",
    "\n",
    "# predicting the target\n",
    "y_pred = model.predict(X_test)\n",
    "\n",
    "test_df = amzn_df[amzn_df.index.isin(X_test.index)]\n",
    "# dataframe with values from amzn_df for test set days\n",
    "# adding predictions to test_df\n",
    "test_df['Predictions'] = y_pred\n"
   ]
  },
  {
   "cell_type": "code",
   "execution_count": 81,
   "metadata": {},
   "outputs": [
    {
     "name": "stdout",
     "output_type": "stream",
     "text": [
      "          Open        High         Low       Close   Adj Close     Volume   \n",
      "41  134.253494  138.481506  133.751495  137.940994  137.940994   75394000  \\\n",
      "42  137.899506  144.750000  137.699997  143.934998  143.934998  127268000   \n",
      "43  145.600494  147.778000  143.554993  144.514999  144.514999  131868000   \n",
      "44  146.748505  152.994003  146.500000  152.852005  152.852005  137612000   \n",
      "45  152.927505  153.477493  149.500000  150.005997  150.005997  105150000   \n",
      "46  151.130493  154.198502  150.621506  154.055496  154.055496  100752000   \n",
      "47  155.799500  159.694000  153.699997  159.131500  159.131500  127774000   \n",
      "48  159.587997  160.750000  156.785004  160.000000  160.000000  109720000   \n",
      "49  162.552994  167.214493  153.419495  155.199997  155.199997  154408000   \n",
      "50  154.449997  156.369003  147.500000  154.199997  154.199997  144638000   \n",
      "51  154.011505  154.917496  148.658997  150.443497  150.443497  115778000   \n",
      "\n",
      "    Sentiment    Tomorrow  Target  Predictions  \n",
      "41   0.122259  143.934998       1            1  \n",
      "42   0.164851  144.514999       1            1  \n",
      "43   0.168125  152.852005       1            1  \n",
      "44   0.198235  150.005997       0            1  \n",
      "45   0.092340  154.055496       1            1  \n",
      "46   0.162602  159.131500       1            1  \n",
      "47   0.083241  160.000000       1            1  \n",
      "48   0.115402  155.199997       0            1  \n",
      "49   0.167609  154.199997       0            1  \n",
      "50   0.114810  150.443497       0            1  \n",
      "51   0.126125         NaN       0            1  \n"
     ]
    }
   ],
   "source": [
    "print(test_df)\n",
    "# reseting test_df index\n",
    "test_df = test_df.reset_index(drop=True)\n"
   ]
  },
  {
   "cell_type": "code",
   "execution_count": 82,
   "metadata": {},
   "outputs": [],
   "source": [
    "wallet = 10000\n",
    "# adding the adj close price from test_df to wallet if the Predictions=Target=1, substracting if else\n",
    "wallet_value = []  \n",
    "for i in range(len(test_df)):\n",
    "    if (test_df['Predictions'][i] == 1) and (test_df['Target'][i] == 1):\n",
    "        wallet += (test_df['Tomorrow'][i] - test_df['Adj Close'][i])\n",
    "    elif (test_df['Predictions'][i] == 0) and (test_df['Target'][i] == 0):\n",
    "        wallet += (test_df['Adj Close'][i] - test_df['Tomorrow'][i])\n",
    "    else:\n",
    "        wallet -= abs((test_df['Tomorrow'][i] - test_df['Adj Close'][i]))\n",
    "    wallet_value.append(wallet)\n",
    "\n",
    "test_df['Wallet'] = wallet_value\n",
    "\n"
   ]
  },
  {
   "cell_type": "code",
   "execution_count": 83,
   "metadata": {},
   "outputs": [
    {
     "name": "stdout",
     "output_type": "stream",
     "text": [
      "          Open        High         Low       Close   Adj Close     Volume   \n",
      "0     0.000000    0.000000    0.000000    0.000000    0.000000          0  \\\n",
      "1   134.253494  138.481506  133.751495  137.940994  137.940994   75394000   \n",
      "2   137.899506  144.750000  137.699997  143.934998  143.934998  127268000   \n",
      "3   145.600494  147.778000  143.554993  144.514999  144.514999  131868000   \n",
      "4   146.748505  152.994003  146.500000  152.852005  152.852005  137612000   \n",
      "5   152.927505  153.477493  149.500000  150.005997  150.005997  105150000   \n",
      "6   151.130493  154.198502  150.621506  154.055496  154.055496  100752000   \n",
      "7   155.799500  159.694000  153.699997  159.131500  159.131500  127774000   \n",
      "8   159.587997  160.750000  156.785004  160.000000  160.000000  109720000   \n",
      "9   162.552994  167.214493  153.419495  155.199997  155.199997  154408000   \n",
      "10  154.449997  156.369003  147.500000  154.199997  154.199997  144638000   \n",
      "11  154.011505  154.917496  148.658997  150.443497  150.443497  115778000   \n",
      "\n",
      "    Sentiment    Tomorrow  Target  Predictions        Wallet  \n",
      "0    0.000000    0.000000       0            0  10000.000000  \n",
      "1    0.122259  143.934998       1            1  10005.994003  \n",
      "2    0.164851  144.514999       1            1  10006.574005  \n",
      "3    0.168125  152.852005       1            1  10014.911011  \n",
      "4    0.198235  150.005997       0            1  10012.065002  \n",
      "5    0.092340  154.055496       1            1  10016.114502  \n",
      "6    0.162602  159.131500       1            1  10021.190506  \n",
      "7    0.083241  160.000000       1            1  10022.059006  \n",
      "8    0.115402  155.199997       0            1  10017.259003  \n",
      "9    0.167609  154.199997       0            1  10016.259003  \n",
      "10   0.114810  150.443497       0            1  10012.502502  \n",
      "11   0.126125         NaN       0            1           NaN  \n"
     ]
    },
    {
     "data": {
      "image/png": "[encoded data removed]",
      "text/plain": [
       "<Figure size 640x480 with 1 Axes>"
      ]
     },
     "metadata": {},
     "output_type": "display_data"
    }
   ],
   "source": [
    "wallet_df = test_df.copy()\n",
    "wallet_df = wallet_df.drop(wallet_df.index[0:60])\n",
    "\n",
    "wallet_df.loc[-1] = [0] * len(wallet_df.columns)\n",
    "wallet_df.index = wallet_df.index + 1\n",
    "wallet_df = wallet_df.sort_index()\n",
    "wallet_df.loc[0, 'Wallet'] = 10000\n",
    "\n",
    "\n",
    "wallet_df = wallet_df.reset_index(drop=True)\n",
    "wallet_df = pd.concat([wallet_df, test_df], ignore_index=True)\n",
    "\n",
    "\n",
    "print(wallet_df)\n",
    "\n",
    "\n",
    "plt.plot(wallet_df['Wallet'], label='Value of Amazon based portfolio')\n",
    "plt.ylabel('Value in dollars')\n",
    "plt.legend()\n",
    "plt.show()\n",
    "\n"
   ]
  },
  {
   "cell_type": "code",
   "execution_count": 84,
   "metadata": {},
   "outputs": [
    {
     "name": "stdout",
     "output_type": "stream",
     "text": [
      "0.12502502441406252\n"
     ]
    }
   ],
   "source": [
    "# Printing the return\n",
    "print((wallet_df['Wallet'][len(wallet_df)-2] - wallet_df['Wallet'][0])/wallet_df['Wallet'][0]*100)\n"
   ]
  }
 ],
 "metadata": {
  "kernelspec": {
   "display_name": "Python 3",
   "language": "python",
   "name": "python3"
  },
  "language_info": {
   "codemirror_mode": {
    "name": "ipython",
    "version": 3
   },
   "file_extension": ".py",
   "mimetype": "text/x-python",
   "name": "python",
   "nbconvert_exporter": "python",
   "pygments_lexer": "ipython3",
   "version": "3.11.8"
  },
  "orig_nbformat": 4
 },
 "nbformat": 4,
 "nbformat_minor": 2
}
