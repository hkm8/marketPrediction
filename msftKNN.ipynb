{
 "cells": [
  {
   "cell_type": "code",
   "execution_count": 70,
   "metadata": {},
   "outputs": [],
   "source": [
    "def cleaning_tweets(text):\n",
    "    ''' Clean tweets with regex patterns\n",
    "    \n",
    "    Args : \n",
    "        - text : string\n",
    "    \n",
    "    Returns : \n",
    "        A transformed text\n",
    "    '''\n",
    "\n",
    "    text = str(text)\n",
    "    text = text.lower()\n",
    "\n",
    "    text = re.sub(r\"http\\S+\", \" \", text)\n",
    "    text = re.sub(r\"\\b[a-zA-Z]\\b\", \" \", text)\n",
    "    text = re.sub(r\"\\d+\", \" \", text)\n",
    "    text = re.sub(r\"[^a-zA-Z0-9]+\", \" \", text)\n",
    "    text = re.sub(r\"\\s+\", \" \", text)\n",
    "\n",
    "    text = text.split()\n",
    "\n",
    "    return text"
   ]
  },
  {
   "cell_type": "code",
   "execution_count": 71,
   "metadata": {},
   "outputs": [
    {
     "name": "stdout",
     "output_type": "stream",
     "text": [
      "          Date  Sentiment\n",
      "0   2020-04-09   0.092716\n",
      "1   2020-04-10   0.079249\n",
      "2   2020-04-11   0.077346\n",
      "3   2020-04-12   0.123964\n",
      "4   2020-04-13   0.055267\n",
      "..         ...        ...\n",
      "72  2020-07-12   0.106335\n",
      "73  2020-07-13   0.087838\n",
      "74  2020-07-14   0.037963\n",
      "75  2020-07-15   0.054084\n",
      "76  2020-07-16   0.031192\n",
      "\n",
      "[77 rows x 2 columns]\n"
     ]
    }
   ],
   "source": [
    "import pandas as pd\n",
    "from nltk.sentiment.vader import SentimentIntensityAnalyzer\n",
    "\n",
    "df = pd.read_csv('../tweets/tweets_remaining_09042020_16072020.csv', delimiter=';')\n",
    "\n",
    "df['Date'] = df['created_at'].str.split().str[0]\n",
    "\n",
    "df = df[df['text'].str.contains(\"msft\")]\n",
    "\n",
    "sia = SentimentIntensityAnalyzer()\n",
    "\n",
    "df['Sentiment'] = df['text'].apply(lambda x: sia.polarity_scores(x)['compound'])\n",
    "\n",
    "sentiment_df = df[['Date', 'Sentiment']]\n",
    "\n",
    "average_sentiment_df = sentiment_df.groupby('Date').mean().reset_index()\n",
    "\n",
    "print(average_sentiment_df)\n"
   ]
  },
  {
   "cell_type": "code",
   "execution_count": 72,
   "metadata": {},
   "outputs": [],
   "source": [
    "import yfinance as yf\n",
    "msft_df = yf.download(\"MSFT\", start=\"2020-04-09\", end=\"2020-07-16\", progress=False)"
   ]
  },
  {
   "cell_type": "code",
   "execution_count": 73,
   "metadata": {},
   "outputs": [],
   "source": [
    "average_sentiment_df['Date'] = pd.to_datetime(average_sentiment_df['Date'])\n",
    "\n",
    "average_sentiment_df = average_sentiment_df[average_sentiment_df['Date'].isin(msft_df.index)]\n",
    "msft_df = msft_df[msft_df.index.isin(average_sentiment_df['Date'])]\n",
    "average_sentiment_df = average_sentiment_df.reset_index(drop=True)\n",
    "msft_df = msft_df.reset_index(drop=True)"
   ]
  },
  {
   "cell_type": "code",
   "execution_count": 74,
   "metadata": {},
   "outputs": [],
   "source": [
    "msft_df['Sentiment'] = average_sentiment_df['Sentiment'].to_numpy()"
   ]
  },
  {
   "cell_type": "code",
   "execution_count": 75,
   "metadata": {},
   "outputs": [
    {
     "data": {
      "text/html": [
       "<div>\n",
       "<style scoped>\n",
       "    .dataframe tbody tr th:only-of-type {\n",
       "        vertical-align: middle;\n",
       "    }\n",
       "\n",
       "    .dataframe tbody tr th {\n",
       "        vertical-align: top;\n",
       "    }\n",
       "\n",
       "    .dataframe thead th {\n",
       "        text-align: right;\n",
       "    }\n",
       "</style>\n",
       "<table border=\"1\" class=\"dataframe\">\n",
       "  <thead>\n",
       "    <tr style=\"text-align: right;\">\n",
       "      <th></th>\n",
       "      <th>Open</th>\n",
       "      <th>High</th>\n",
       "      <th>Low</th>\n",
       "      <th>Close</th>\n",
       "      <th>Adj Close</th>\n",
       "      <th>Volume</th>\n",
       "      <th>Sentiment</th>\n",
       "    </tr>\n",
       "  </thead>\n",
       "  <tbody>\n",
       "    <tr>\n",
       "      <th>0</th>\n",
       "      <td>166.360001</td>\n",
       "      <td>167.369995</td>\n",
       "      <td>163.330002</td>\n",
       "      <td>165.139999</td>\n",
       "      <td>159.275269</td>\n",
       "      <td>51385100</td>\n",
       "      <td>0.092716</td>\n",
       "    </tr>\n",
       "    <tr>\n",
       "      <th>1</th>\n",
       "      <td>164.350006</td>\n",
       "      <td>165.570007</td>\n",
       "      <td>162.300003</td>\n",
       "      <td>165.509995</td>\n",
       "      <td>159.632141</td>\n",
       "      <td>41905300</td>\n",
       "      <td>0.055267</td>\n",
       "    </tr>\n",
       "    <tr>\n",
       "      <th>2</th>\n",
       "      <td>169.000000</td>\n",
       "      <td>173.750000</td>\n",
       "      <td>168.000000</td>\n",
       "      <td>173.699997</td>\n",
       "      <td>167.531281</td>\n",
       "      <td>52874300</td>\n",
       "      <td>0.062544</td>\n",
       "    </tr>\n",
       "    <tr>\n",
       "      <th>3</th>\n",
       "      <td>171.199997</td>\n",
       "      <td>173.570007</td>\n",
       "      <td>169.240005</td>\n",
       "      <td>171.880005</td>\n",
       "      <td>165.775940</td>\n",
       "      <td>40940800</td>\n",
       "      <td>0.114921</td>\n",
       "    </tr>\n",
       "    <tr>\n",
       "      <th>4</th>\n",
       "      <td>174.300003</td>\n",
       "      <td>177.279999</td>\n",
       "      <td>172.899994</td>\n",
       "      <td>177.039993</td>\n",
       "      <td>170.752701</td>\n",
       "      <td>50479600</td>\n",
       "      <td>0.075718</td>\n",
       "    </tr>\n",
       "  </tbody>\n",
       "</table>\n",
       "</div>"
      ],
      "text/plain": [
       "         Open        High         Low       Close   Adj Close    Volume   \n",
       "0  166.360001  167.369995  163.330002  165.139999  159.275269  51385100  \\\n",
       "1  164.350006  165.570007  162.300003  165.509995  159.632141  41905300   \n",
       "2  169.000000  173.750000  168.000000  173.699997  167.531281  52874300   \n",
       "3  171.199997  173.570007  169.240005  171.880005  165.775940  40940800   \n",
       "4  174.300003  177.279999  172.899994  177.039993  170.752701  50479600   \n",
       "\n",
       "   Sentiment  \n",
       "0   0.092716  \n",
       "1   0.055267  \n",
       "2   0.062544  \n",
       "3   0.114921  \n",
       "4   0.075718  "
      ]
     },
     "execution_count": 75,
     "metadata": {},
     "output_type": "execute_result"
    }
   ],
   "source": [
    "msft_df.head()"
   ]
  },
  {
   "cell_type": "code",
   "execution_count": 76,
   "metadata": {},
   "outputs": [],
   "source": [
    "msft_df[\"Tomorrow\"] = msft_df[\"Close\"].shift(-1)"
   ]
  },
  {
   "cell_type": "code",
   "execution_count": 77,
   "metadata": {},
   "outputs": [],
   "source": [
    "msft_df[\"Target\"] = (msft_df[\"Tomorrow\"] > msft_df[\"Close\"]).astype(int)\n"
   ]
  },
  {
   "attachments": {},
   "cell_type": "markdown",
   "metadata": {},
   "source": [
    "## K-Nearest Neighbors"
   ]
  },
  {
   "cell_type": "code",
   "execution_count": 78,
   "metadata": {},
   "outputs": [
    {
     "name": "stderr",
     "output_type": "stream",
     "text": [
      "/var/folders/9f/tqhf2_lj7x9g9w7kvpf8_91r0000gn/T/ipykernel_81087/2402974250.py:15: SettingWithCopyWarning: \n",
      "A value is trying to be set on a copy of a slice from a DataFrame.\n",
      "Try using .loc[row_indexer,col_indexer] = value instead\n",
      "\n",
      "See the caveats in the documentation: https://pandas.pydata.org/pandas-docs/stable/user_guide/indexing.html#returning-a-view-versus-a-copy\n",
      "  test_df['Predictions'] = y_pred\n"
     ]
    }
   ],
   "source": [
    "from sklearn.model_selection import KFold\n",
    "from sklearn.neighbors import KNeighborsClassifier\n",
    "from sklearn.model_selection import train_test_split\n",
    "\n",
    "X_train, X_test, y_train, y_test = train_test_split(msft_df[['Open', 'High', 'Low', 'Close',\n",
    "'Adj Close', 'Volume', 'Sentiment']], msft_df['Target'], test_size=0.2, random_state=42, shuffle=False)\n",
    "\n",
    "from sklearn.neighbors import KNeighborsRegressor\n",
    "regressor = KNeighborsRegressor(n_neighbors=5)\n",
    "regressor.fit(X_train, y_train)\n",
    "\n",
    "y_pred = regressor.predict(X_test)\n",
    "\n",
    "test_df = msft_df[msft_df.index.isin(X_test.index)]\n",
    "test_df['Predictions'] = y_pred"
   ]
  },
  {
   "cell_type": "code",
   "execution_count": 79,
   "metadata": {},
   "outputs": [
    {
     "name": "stdout",
     "output_type": "stream",
     "text": [
      "          Open        High         Low       Close   Adj Close    Volume   \n",
      "41  197.880005  204.399994  197.740005  203.509995  196.829300  34310300  \\\n",
      "42  203.139999  206.350006  201.770004  204.699997  197.980270  32061200   \n",
      "43  205.679993  208.020004  205.000000  206.259995  199.489014  29315800   \n",
      "44  208.830002  211.130005  208.089996  210.699997  203.783249  31897600   \n",
      "45  210.449997  214.669998  207.990005  208.250000  201.413712  33600700   \n",
      "46  210.070007  213.259995  208.690002  212.830002  205.843338  33600000   \n",
      "47  216.330002  216.380005  211.470001  214.320007  207.284439  33121700   \n",
      "48  213.619995  214.080002  211.080002  213.669998  206.655762  26177600   \n",
      "49  214.479996  215.800003  206.500000  207.070007  200.272430  38135600   \n",
      "50  206.130005  208.850006  202.029999  208.350006  201.510422  37591800   \n",
      "51  209.559998  211.330002  205.029999  208.039993  201.210556  32179400   \n",
      "\n",
      "    Sentiment    Tomorrow  Target  Predictions  \n",
      "41   0.122084  204.699997       1          0.6  \n",
      "42   0.072288  206.259995       1          0.8  \n",
      "43   0.058403  210.699997       1          1.0  \n",
      "44   0.143329  208.250000       0          0.8  \n",
      "45   0.086555  212.830002       1          0.6  \n",
      "46   0.034117  214.320007       1          0.6  \n",
      "47   0.088815  213.669998       0          0.8  \n",
      "48   0.062486  207.070007       0          0.6  \n",
      "49   0.087838  208.350006       1          0.8  \n",
      "50   0.037963  208.039993       0          0.6  \n",
      "51   0.054084         NaN       0          0.8  \n"
     ]
    }
   ],
   "source": [
    "print(test_df)\n",
    "test_df = test_df.reset_index(drop=True)\n"
   ]
  },
  {
   "cell_type": "code",
   "execution_count": 80,
   "metadata": {},
   "outputs": [
    {
     "data": {
      "text/html": [
       "<div>\n",
       "<style scoped>\n",
       "    .dataframe tbody tr th:only-of-type {\n",
       "        vertical-align: middle;\n",
       "    }\n",
       "\n",
       "    .dataframe tbody tr th {\n",
       "        vertical-align: top;\n",
       "    }\n",
       "\n",
       "    .dataframe thead th {\n",
       "        text-align: right;\n",
       "    }\n",
       "</style>\n",
       "<table border=\"1\" class=\"dataframe\">\n",
       "  <thead>\n",
       "    <tr style=\"text-align: right;\">\n",
       "      <th></th>\n",
       "      <th>Open</th>\n",
       "      <th>High</th>\n",
       "      <th>Low</th>\n",
       "      <th>Close</th>\n",
       "      <th>Adj Close</th>\n",
       "      <th>Volume</th>\n",
       "      <th>Sentiment</th>\n",
       "      <th>Tomorrow</th>\n",
       "      <th>Target</th>\n",
       "      <th>Predictions</th>\n",
       "    </tr>\n",
       "  </thead>\n",
       "  <tbody>\n",
       "    <tr>\n",
       "      <th>0</th>\n",
       "      <td>197.880005</td>\n",
       "      <td>204.399994</td>\n",
       "      <td>197.740005</td>\n",
       "      <td>203.509995</td>\n",
       "      <td>196.829300</td>\n",
       "      <td>34310300</td>\n",
       "      <td>0.122084</td>\n",
       "      <td>204.699997</td>\n",
       "      <td>1</td>\n",
       "      <td>1</td>\n",
       "    </tr>\n",
       "    <tr>\n",
       "      <th>1</th>\n",
       "      <td>203.139999</td>\n",
       "      <td>206.350006</td>\n",
       "      <td>201.770004</td>\n",
       "      <td>204.699997</td>\n",
       "      <td>197.980270</td>\n",
       "      <td>32061200</td>\n",
       "      <td>0.072288</td>\n",
       "      <td>206.259995</td>\n",
       "      <td>1</td>\n",
       "      <td>1</td>\n",
       "    </tr>\n",
       "    <tr>\n",
       "      <th>2</th>\n",
       "      <td>205.679993</td>\n",
       "      <td>208.020004</td>\n",
       "      <td>205.000000</td>\n",
       "      <td>206.259995</td>\n",
       "      <td>199.489014</td>\n",
       "      <td>29315800</td>\n",
       "      <td>0.058403</td>\n",
       "      <td>210.699997</td>\n",
       "      <td>1</td>\n",
       "      <td>1</td>\n",
       "    </tr>\n",
       "    <tr>\n",
       "      <th>3</th>\n",
       "      <td>208.830002</td>\n",
       "      <td>211.130005</td>\n",
       "      <td>208.089996</td>\n",
       "      <td>210.699997</td>\n",
       "      <td>203.783249</td>\n",
       "      <td>31897600</td>\n",
       "      <td>0.143329</td>\n",
       "      <td>208.250000</td>\n",
       "      <td>0</td>\n",
       "      <td>1</td>\n",
       "    </tr>\n",
       "    <tr>\n",
       "      <th>4</th>\n",
       "      <td>210.449997</td>\n",
       "      <td>214.669998</td>\n",
       "      <td>207.990005</td>\n",
       "      <td>208.250000</td>\n",
       "      <td>201.413712</td>\n",
       "      <td>33600700</td>\n",
       "      <td>0.086555</td>\n",
       "      <td>212.830002</td>\n",
       "      <td>1</td>\n",
       "      <td>1</td>\n",
       "    </tr>\n",
       "  </tbody>\n",
       "</table>\n",
       "</div>"
      ],
      "text/plain": [
       "         Open        High         Low       Close   Adj Close    Volume   \n",
       "0  197.880005  204.399994  197.740005  203.509995  196.829300  34310300  \\\n",
       "1  203.139999  206.350006  201.770004  204.699997  197.980270  32061200   \n",
       "2  205.679993  208.020004  205.000000  206.259995  199.489014  29315800   \n",
       "3  208.830002  211.130005  208.089996  210.699997  203.783249  31897600   \n",
       "4  210.449997  214.669998  207.990005  208.250000  201.413712  33600700   \n",
       "\n",
       "   Sentiment    Tomorrow  Target  Predictions  \n",
       "0   0.122084  204.699997       1            1  \n",
       "1   0.072288  206.259995       1            1  \n",
       "2   0.058403  210.699997       1            1  \n",
       "3   0.143329  208.250000       0            1  \n",
       "4   0.086555  212.830002       1            1  "
      ]
     },
     "execution_count": 80,
     "metadata": {},
     "output_type": "execute_result"
    }
   ],
   "source": [
    "# changing Predictions to 1 if it is greater than 0.6 and 0 otherwise\n",
    "test_df['Predictions'] = np.where(test_df['Predictions'] > 0.5, 1, 0)\n",
    "test_df.head()"
   ]
  },
  {
   "cell_type": "code",
   "execution_count": 81,
   "metadata": {},
   "outputs": [],
   "source": [
    "wallet = 10000\n",
    "wallet_value = []  \n",
    "for i in range(len(test_df)):\n",
    "    if (test_df['Predictions'][i] == 1) and (test_df['Target'][i] == 1):\n",
    "        wallet += (test_df['Tomorrow'][i] - test_df['Adj Close'][i])\n",
    "    elif (test_df['Predictions'][i] == 0) and (test_df['Target'][i] == 0):\n",
    "        wallet += (test_df['Adj Close'][i] - test_df['Tomorrow'][i])\n",
    "    else:\n",
    "        wallet -= abs((test_df['Tomorrow'][i] - test_df['Adj Close'][i]))\n",
    "    wallet_value.append(wallet)\n",
    "\n",
    "test_df['Wallet'] = wallet_value\n"
   ]
  },
  {
   "cell_type": "code",
   "execution_count": 82,
   "metadata": {},
   "outputs": [
    {
     "name": "stdout",
     "output_type": "stream",
     "text": [
      "          Open        High         Low       Close   Adj Close    Volume   \n",
      "0     0.000000    0.000000    0.000000    0.000000    0.000000         0  \\\n",
      "1   197.880005  204.399994  197.740005  203.509995  196.829300  34310300   \n",
      "2   203.139999  206.350006  201.770004  204.699997  197.980270  32061200   \n",
      "3   205.679993  208.020004  205.000000  206.259995  199.489014  29315800   \n",
      "4   208.830002  211.130005  208.089996  210.699997  203.783249  31897600   \n",
      "5   210.449997  214.669998  207.990005  208.250000  201.413712  33600700   \n",
      "6   210.070007  213.259995  208.690002  212.830002  205.843338  33600000   \n",
      "7   216.330002  216.380005  211.470001  214.320007  207.284439  33121700   \n",
      "8   213.619995  214.080002  211.080002  213.669998  206.655762  26177600   \n",
      "9   214.479996  215.800003  206.500000  207.070007  200.272430  38135600   \n",
      "10  206.130005  208.850006  202.029999  208.350006  201.510422  37591800   \n",
      "11  209.559998  211.330002  205.029999  208.039993  201.210556  32179400   \n",
      "\n",
      "    Sentiment    Tomorrow  Target  Predictions        Wallet  \n",
      "0    0.000000    0.000000       0            0  10000.000000  \n",
      "1    0.122084  204.699997       1            1  10007.870697  \n",
      "2    0.072288  206.259995       1            1  10016.150421  \n",
      "3    0.058403  210.699997       1            1  10027.361404  \n",
      "4    0.143329  208.250000       0            1  10022.894653  \n",
      "5    0.086555  212.830002       1            1  10034.310944  \n",
      "6    0.034117  214.320007       1            1  10042.787613  \n",
      "7    0.088815  213.669998       0            1  10036.402054  \n",
      "8    0.062486  207.070007       0            1  10035.987808  \n",
      "9    0.087838  208.350006       1            1  10044.065384  \n",
      "10   0.037963  208.039993       0            1  10037.535812  \n",
      "11   0.054084         NaN       0            1           NaN  \n"
     ]
    },
    {
     "data": {
      "image/png": "[encoded data removed]",
      "text/plain": [
       "<Figure size 640x480 with 1 Axes>"
      ]
     },
     "metadata": {},
     "output_type": "display_data"
    }
   ],
   "source": [
    "wallet_df = test_df.copy()\n",
    "wallet_df = wallet_df.drop(wallet_df.index[0:60])\n",
    "\n",
    "wallet_df.loc[-1] = [0] * len(wallet_df.columns)\n",
    "wallet_df.index = wallet_df.index + 1\n",
    "wallet_df = wallet_df.sort_index()\n",
    "wallet_df.loc[0, 'Wallet'] = 10000\n",
    "\n",
    "\n",
    "wallet_df = wallet_df.reset_index(drop=True)\n",
    "wallet_df = pd.concat([wallet_df, test_df], ignore_index=True)\n",
    "\n",
    "\n",
    "print(wallet_df)\n",
    "\n",
    "plt.plot(wallet_df['Wallet'], label='Value of Microsoft based portfolio')\n",
    "plt.ylabel('Value in dollars')\n",
    "plt.legend()\n",
    "plt.show()\n",
    "\n"
   ]
  },
  {
   "cell_type": "code",
   "execution_count": 83,
   "metadata": {},
   "outputs": [
    {
     "name": "stdout",
     "output_type": "stream",
     "text": [
      "0.3753581237792969\n"
     ]
    }
   ],
   "source": [
    "print((wallet_df['Wallet'][len(wallet_df)-2] - wallet_df['Wallet'][0])/wallet_df['Wallet'][0]*100)\n"
   ]
  }
 ],
 "metadata": {
  "kernelspec": {
   "display_name": "Python 3",
   "language": "python",
   "name": "python3"
  },
  "language_info": {
   "codemirror_mode": {
    "name": "ipython",
    "version": 3
   },
   "file_extension": ".py",
   "mimetype": "text/x-python",
   "name": "python",
   "nbconvert_exporter": "python",
   "pygments_lexer": "ipython3",
   "version": "3.11.8"
  },
  "orig_nbformat": 4
 },
 "nbformat": 4,
 "nbformat_minor": 2
}
